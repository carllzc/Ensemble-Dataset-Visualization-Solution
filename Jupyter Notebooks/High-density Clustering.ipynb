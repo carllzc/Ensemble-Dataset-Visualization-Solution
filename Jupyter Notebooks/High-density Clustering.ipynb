{
 "cells": [
  {
   "cell_type": "code",
   "execution_count": 16,
   "metadata": {},
   "outputs": [],
   "source": [
    "# import necessary modules\n",
    "import os\n",
    "import numpy as np\n",
    "import matplotlib\n",
    "import matplotlib.pyplot as plt\n",
    "import seaborn as sns\n",
    "import netCDF4 as nc\n",
    "from mpl_toolkits.basemap import Basemap\n",
    "from sklearn.decomposition import PCA\n",
    "import matplotlib.gridspec as gridspec\n",
    "from matplotlib.backends.backend_pdf import PdfPages\n",
    "from mpl_toolkits.axes_grid1 import make_axes_locatable\n",
    "from datetime import datetime, timedelta\n",
    "import pandas as pd\n",
    "from scipy.spatial import distance_matrix\n",
    "from matplotlib import cm as cm\n",
    "from matplotlib.collections import PatchCollection\n",
    "from matplotlib.patches import Polygon\n",
    "from sklearn.cluster import KMeans\n",
    "from scipy.spatial.distance import cdist\n",
    "import math"
   ]
  },
  {
   "cell_type": "code",
   "execution_count": 17,
   "metadata": {},
   "outputs": [],
   "source": [
    "#get the file path for loading, data file is under the same dir with the notebook\n",
    "filename=\"20121015_00_ecmwf_ensemble_forecast.PRESSURE_LEVELS.EUR_LL10.120.pl.nc\"\n",
    "foldername=\"ECWMF Datasets\"\n",
    "filepath=os.path.join(os.path.dirname(os.getcwd()),foldername,filename)\n",
    "\n",
    "# read the raw data and extract the needed data\n",
    "# exrtact the value of Geopotential under the pressure of 500 hPA in the certain\n",
    "Pressure_Levels_data = nc.Dataset(filepath,\"r\")\n",
    "g = 9.80655\n",
    "# get all the dimension value\n",
    "nd_1,nd_2,nd_3,nd_4,nd_5 = Pressure_Levels_data.variables['Geopotential_isobaric'][:].shape\n",
    "# get the necessary raw data\n",
    "Geopotential_Isobaric_500 = Pressure_Levels_data.variables['Geopotential_isobaric'][0,:,7,:,:]/g\n",
    "# reshape the dataset into form of (51,41*101)\n",
    "Geopotential_Isobaric_500_reshaped = np.reshape(Geopotential_Isobaric_500,(nd_2, nd_4 * nd_5))\n",
    "# prepare the longitude and latitude value for contour\n",
    "longitude = Pressure_Levels_data['lon'][:]\n",
    "latitude = Pressure_Levels_data['lat'][:]\n",
    "(lon, lat) = np.meshgrid(longitude, latitude)\n",
    "\n",
    "# use PCA to reduce dimensions under the condition of reaching 80% of all the member infomation\n",
    "exp_var = 0\n",
    "n_pc = 0\n",
    "while exp_var < 0.8:\n",
    "    n_pc = n_pc + 1\n",
    "    pca = PCA(n_components = n_pc)\n",
    "    pca.fit(Geopotential_Isobaric_500_reshaped)\n",
    "    exp_var = sum(pca.explained_variance_ratio_)\n",
    "\n",
    "# get the transformed raw data in the dimension-reduced space    \n",
    "pca_transformed_data = pca.transform(Geopotential_Isobaric_500_reshaped)\n",
    "\n",
    "#get the time variable\n",
    "times=Pressure_Levels_data.variables[\"time\"]\n",
    "#get the time number\n",
    "arrDateEnd=nc.num2date(times[:],units=times.units)\n",
    "#get the time in date format\n",
    "dateEndDate = datetime.date(arrDateEnd[0]).strftime(\"%d %b %Y\")\n",
    "dateEndMin = datetime.date(arrDateEnd[0]).strftime(\"%H:%M\")\n",
    "dateStart=datetime.date(arrDateEnd[0])-timedelta(hours=120)\n",
    "dateStartDate=dateStart.strftime(\"%d %b %Y\")\n",
    "dateStartMin=dateStart.strftime(\"%H:%M\")\n"
   ]
  },
  {
   "cell_type": "code",
   "execution_count": 18,
   "metadata": {},
   "outputs": [],
   "source": [
    "def bandwidth_selection(dataset,bandwidth):    \n",
    "    significanceLower = int(51*0.3)\n",
    "    outlierUpper = 2\n",
    "\n",
    "    meanshift = MeanShift(bandwidth=bandwidth)\n",
    "    meanshift.fit(dataset)\n",
    "    labels = meanshift.labels_\n",
    "\n",
    "    from collections import Counter\n",
    "    dicLabels=Counter(labels)\n",
    "\n",
    "    sigModeNum=0\n",
    "    outlierModeNum=0\n",
    "    for i in dicLabels:\n",
    "        if dicLabels[i] >= significanceLower:\n",
    "            sigModeNum = sigModeNum + 1\n",
    "        else:\n",
    "            outlierModeNum = outlierModeNum + 1\n",
    "    if outlierModeNum > outlierUpper:\n",
    "            print(\"Number of outlier exceeds 2\")\n",
    "            print(labels)\n",
    "    else:\n",
    "        print(\"Number of sig mode is {0}\".format(sigModeNum)) \n",
    "        print(labels)"
   ]
  },
  {
   "cell_type": "code",
   "execution_count": 19,
   "metadata": {},
   "outputs": [],
   "source": [
    "def gauKern(point,h,isocontourSet):\n",
    "    PI=math.pi\n",
    "    p=point.shape[0]\n",
    "\n",
    "    n=len(isocontourSet)\n",
    "    sum=0\n",
    "    \n",
    "    for i in range(n):\n",
    "        diff=point-isocontourSet[i]\n",
    "        temp =np.exp(-np.sum(diff**2)/2*(h**2))/(np.sqrt(2*PI)*(h**p))\n",
    "        sum=sum+temp\n",
    "        \n",
    "    return sum/n "
   ]
  },
  {
   "cell_type": "code",
   "execution_count": null,
   "metadata": {},
   "outputs": [],
   "source": [
    "def get_limit(number):\n",
    "    if number<0:\n",
    "        temp=np.abs(number)\n",
    "        c=1  \n",
    "        while (temp//10)!=0:\n",
    "            temp=temp/10\n",
    "            c+=1\n",
    "        number=-1*(-1*number+10**(c-1))\n",
    "    else:\n",
    "        temp=number\n",
    "        c=1  \n",
    "        while (temp//10)!=0:\n",
    "            temp=temp/10\n",
    "            c+=1\n",
    "        number=number+10**(c-1)\n",
    "        \n",
    "    return number"
   ]
  },
  {
   "cell_type": "code",
   "execution_count": 23,
   "metadata": {},
   "outputs": [],
   "source": [
    "def pointSet(isocontourSet,interval):\n",
    "    maxnum=isocontourSet.max()\n",
    "    minnum=isocontourSet.min()\n",
    "    maxlim=get_limit(maxnum)\n",
    "    minlim=get_limit(minnum)\n",
    "    \n",
    "    dim=isocontourSet.shape[1]\n",
    "    oneDim=np.linspace(minlim,maxlim,interval)\n",
    "    \n",
    "    multiDim=[oneDim for i in range(dim)]\n",
    "    grid=np.meshgrid(*multiDim)\n",
    "    \n",
    "    reshape=[np.reshape(grid[j],(interval**dim)) for j in range(dim)]\n",
    "    \n",
    "    result= np.vstack(reshape).T\n",
    "    return resultlt"
   ]
  },
  {
   "cell_type": "code",
   "execution_count": 13,
   "metadata": {},
   "outputs": [
    {
     "name": "stdout",
     "output_type": "stream",
     "text": [
      "{'bandwidth': 67.80435593063766}\n"
     ]
    },
    {
     "name": "stderr",
     "output_type": "stream",
     "text": [
      "/anaconda3/lib/python3.7/site-packages/sklearn/model_selection/_search.py:841: DeprecationWarning: The default of the `iid` parameter will change from True to False in version 0.22 and will be removed in 0.24. This will change numeric results when test-set sizes are unequal.\n",
      "  DeprecationWarning)\n"
     ]
    }
   ],
   "source": [
    "from sklearn.model_selection import GridSearchCV\n",
    "grid = GridSearchCV(KernelDensity(),{'bandwidth': np.linspace((pca_transformed_data[:,0]).min(), (pca_transformed_data[:,0]).max(), 1000)},cv=20) # 20-fold cross-validation\n",
    "grid.fit(pca_transformed_data)\n",
    "print(grid.best_params_)"
   ]
  },
  {
   "cell_type": "code",
   "execution_count": null,
   "metadata": {},
   "outputs": [],
   "source": [
    "def Get_Cluster_Label(data,bandwidth):\n",
    "    density=[gauKern(data[i],0.001,data) for i in range(len(data))]\n",
    "    for index,value in enumerate(density):"
   ]
  }
 ],
 "metadata": {
  "kernelspec": {
   "display_name": "Python 3",
   "language": "python",
   "name": "python3"
  },
  "language_info": {
   "codemirror_mode": {
    "name": "ipython",
    "version": 3
   },
   "file_extension": ".py",
   "mimetype": "text/x-python",
   "name": "python",
   "nbconvert_exporter": "python",
   "pygments_lexer": "ipython3",
   "version": "3.7.3"
  }
 },
 "nbformat": 4,
 "nbformat_minor": 2
}
