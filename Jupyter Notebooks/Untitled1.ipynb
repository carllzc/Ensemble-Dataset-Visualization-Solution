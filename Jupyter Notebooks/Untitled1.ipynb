{
 "cells": [
  {
   "cell_type": "code",
   "execution_count": 154,
   "metadata": {},
   "outputs": [],
   "source": [
    "import numpy as np\n",
    "from scipy.spatial import distance_matrix\n",
    "from sklearn.cluster import MeanShift\n",
    "from collections import Counter\n",
    "from scipy.spatial.distance import euclidean\n",
    "from sklearn.metrics.pairwise import euclidean_distances\n",
    "from sklearn.neighbors.kde import KernelDensity\n",
    "X=np.array([[1.5,2,3],[2.5,5,8],[5.5,10,11]])\n",
    "Y=np.array([[2,3,4],[2.5,3.5,4.5],[5.5,6,7],[6,7,8]])\n",
    "a=distance_matrix(X,X)"
   ]
  },
  {
   "cell_type": "code",
   "execution_count": 91,
   "metadata": {},
   "outputs": [],
   "source": [
    "def bandwidth_selection(data,sigThresh,outlierThresh):\n",
    "    #constant\n",
    "    step = 1\n",
    "    n_clus = 0\n",
    "\n",
    "    D = distance_matrix(X,X)\n",
    "    minD = int(np.round(np.min(D[np.nonzero(D)])))\n",
    "    if minD==0:\n",
    "        minD=2\n",
    "    maxD = int(np.round(np.max(D[np.nonzero(D)])))\n",
    "\n",
    "    outlierVec=[]\n",
    "    hCandidate=[]\n",
    "\n",
    "    for i_h in range(int(np.round(minD/2)),maxD+1,step):\n",
    "        meanShift=MeanShift(bandwidth=i_h).fit(X)\n",
    "        labels=meanShift.labels_\n",
    "\n",
    "        cl_sig=[k for k, v in Counter(labels).items() if v>=sigThresh]\n",
    "        \n",
    "        n_sig_new = len(cl_sig)\n",
    "        numOutlierModes = len(set(labels))-len(cl_sig)\n",
    "        \n",
    "        if n_sig_new>n_clus:\n",
    "            n_clus=n_sig_new\n",
    "            hCandidate.append(i_h)\n",
    "            outlierVec.append(numOutlierModes)\n",
    "        elif n_sig_new==n_clus:\n",
    "            hCandidate.append(i_h)\n",
    "            outlierVec.append(numOutlierModes)\n",
    "    \n",
    "    h=hCandidate[-1]\n",
    "    for i in range(len(hCandidate)):\n",
    "        if outlierVec[i]<=outlierThresh:\n",
    "            h=hCandidate[i]\n",
    "            break\n",
    "    return h"
   ]
  },
  {
   "cell_type": "code",
   "execution_count": 272,
   "metadata": {},
   "outputs": [],
   "source": [
    "def knn_search(data,modes):\n",
    "    modClosestMemID=np.zeros(len(modes))\n",
    "    dist=np.zeros(len(modes))\n",
    "    for idx,mode in enumerate(modes):\n",
    "        modeKNNid=np.argmin(euclidean_distances(data,[mode]))\n",
    "        minDist=np.min(euclidean_distances(data,[mode]))\n",
    "        modClosestMemID[idx]=modeKNNid\n",
    "        dist[idx]=minDist\n",
    "        \n",
    "    return modClosestMemID,dist\n",
    "\n",
    "def pairConn(X1,X2,X1_dens,X2_dens,lv,data,h):\n",
    "    IDX,D=knn_search(X1,X2)\n",
    "    \n",
    "    idx_2=np.where(D==D.min())\n",
    "    idx_1=IDX[idx_2]\n",
    "    minDist=D[idx_2]\n",
    "    \n",
    "    isConn=1\n",
    "    for one in range(len(X1)):\n",
    "        for two in range(len(X2)):\n",
    "            q1=X1[one,:]\n",
    "            q2=X2[two,:]\n",
    "            \n",
    "            n_seq=20\n",
    "            nl=np.zeros((n_seq,data.shape[1]))\n",
    "            for i in range(data.shape[1]):\n",
    "                s=q1[i]\n",
    "                e=q2[i]\n",
    "                if s==e:\n",
    "                    nl[:,i]=np.zeros((n_seq,1))+s\n",
    "                else:\n",
    "                    nl[:,i]=np.linspace(s,e,n_seq)\n",
    "            \n",
    "            kde=KernelDensity(kernel=\"gaussian\",bandwidth=h).fit(data)\n",
    "            f_nl=np.exp(kde.score_samples(nl))\n",
    "            \n",
    "            if np.sum(f_nl[f_nl<lv])>0 or minDist>2*h :\n",
    "                isConn=0\n",
    "                break\n",
    "    return isConn\n",
    "\n",
    "def cluConn(data,f,labels,lv,h):\n",
    "    n_clu=len(set(labels))\n",
    "    connMat=np.zeros((n_clu,n_clu))\n",
    "    \n",
    "    for i in range(n_clu-1):\n",
    "        for j in range(i+1,n_clu):\n",
    "            id_i=np.where(labels==i)\n",
    "            id_j=np.where(labels==j)\n",
    "            \n",
    "            connMat[i,j]=pairConn(data[id_i,:],data[id_j,:],f[id_i],lv,data,h)\n",
    "            connMat[j,i]=connMat[i,j]\n",
    "            \n",
    "    return connMat          "
   ]
  },
  {
   "cell_type": "code",
   "execution_count": 273,
   "metadata": {},
   "outputs": [],
   "source": [
    "def high_density_clustering(data,h,sizeThresh):\n",
    "    meanShift=MeanShift(bandwidth=h).fit(data)\n",
    "    labels=meanShift.labels_\n",
    "    modes=meanShift.cluster_centers_\n",
    "    \n",
    "    modClosestMemID=knn_search(data,modes)\n",
    "    \n",
    "    n_clu=len(set(labels))\n",
    "    \n",
    "    kde=KernelDensity(kernel=\"gaussian\",bandwidth=h).fit(data)\n",
    "    f=np.exp(kde.score_samples(data))\n",
    "    \n",
    "    n_lv=20\n",
    "    lv_seq=[i/n_lv*f.max() for i in range(1,n_lv+1)]\n",
    "    \n",
    "    #check the cluster info at each level: member, size and connectivity\n",
    "    conn=[]\n",
    "    l_conn=[]\n",
    "    for i in range(n_lv):\n",
    "        conn.append(cluConn(data,f,labels,lv_seq[i],h))\n",
    "    \n",
    "    #check which clusters are connected at each level\n",
    "    conn_mask=np.zeros(conn[0].shape)\n",
    "    for i in reversed(range(n_lv)):\n",
    "        lvl_conn=np.zeros(conn[i].shape)\n",
    "        lvl_tmp=lvl_conn\n",
    "        tmp=lvl_tmp\n",
    "        for j in range(i,n_lv):\n",
    "            tmp=tmp+conn[j]\n",
    "        lvl_tmp=np.where(tmp!=1,lvl_tmp,1)\n",
    "        \n",
    "        #fing indices of newly connected clusters\n",
    "        r_c,c_c=np.where(lvl_tmp==1)\n",
    "        \n",
    "        #for any pair of connected clusters, check if they are already connected\n",
    "        for k in range(r_c.shape[1]):\n",
    "            if conn_mask[r_c[k],c_c[k]]==0:\n",
    "                neighors1=np.where(conn_mask[r_c[k],:]==1)\n",
    "                neighors1=np.where(conn_mask[c_c[k],:]==1)\n",
    "                \n",
    "                conn_mask[r_c[k],c_c[k]]=1\n",
    "                conn_mask[c_c[k],r_c[k]]=1\n",
    "                \n",
    "                conn_mask[neighors1,c_c[k]]=1\n",
    "                conn_mask[c_c[k],neighors1]=1\n",
    "                conn_mask[neighors2,r_c[k]]=1\n",
    "                conn_mask[r_c[k],neighors2]=1\n",
    "                \n",
    "                lvl_conn[r_c[k],c_c[k]]=1\n",
    "                lvl_conn[c_c[k],r_c[k]]=1\n",
    "        \n",
    "        l_conn[i]=lvl_conn\n",
    "        \n",
    "    #cluster members by density\n",
    "    upperLvlMembers=np.empty((n_lv,n_clu),dtype=object)\n",
    "    lvlMembers=np.empty((n_lv,n_clu),dtype=object)\n",
    "    upper_size=np.zeros((n_lv,n_clu))\n",
    "    \n",
    "    for i in range(n_lv-1):\n",
    "        upper_idx=np.where(f>lv_seq[i])\n",
    "        lvl_idx=np.where(f>lv_seq[i] and f<=lv_seq[i+1])\n",
    "        for j in range(n_clu):\n",
    "            upperLvlMembers[i,j]=np.intersect1d(upper_idx,np.where(labels==j))\n",
    "            lvlMembers[i,j]=np.intersect1d(lvl_idx,np.where(labels==j))\n",
    "            upper_size[i,j]=len(upperLvlMembers[i,j])\n",
    "            \n",
    "    #sekect significant clusters just in case\n",
    "    sig_clu=[k for k, v in Counter(labels).items() if v>=sizeThresh]\n",
    "            \n",
    "    return upperLvlMembers"
   ]
  },
  {
   "cell_type": "code",
   "execution_count": 270,
   "metadata": {},
   "outputs": [
    {
     "data": {
      "text/plain": [
       "3"
      ]
     },
     "execution_count": 270,
     "metadata": {},
     "output_type": "execute_result"
    }
   ],
   "source": [
    "a=np.array([1,2,3,4,5])\n",
    "b=np.array([4,5,6,7,1])\n",
    "empty[2,2]=np.intersect1d(a,b)\n",
    "len(empty[2,2])"
   ]
  },
  {
   "cell_type": "code",
   "execution_count": 268,
   "metadata": {},
   "outputs": [
    {
     "data": {
      "text/plain": [
       "array([[None, None, None, None, None, None],\n",
       "       [None, array([1, 2, 3]), None, None, None, None],\n",
       "       [None, None, array([4, 5]), None, None, None],\n",
       "       [None, None, None, None, None, None]], dtype=object)"
      ]
     },
     "execution_count": 268,
     "metadata": {},
     "output_type": "execute_result"
    }
   ],
   "source": [
    "empty"
   ]
  },
  {
   "cell_type": "code",
   "execution_count": 250,
   "metadata": {},
   "outputs": [],
   "source": [
    "a=np.zeros((2,2))\n",
    "b=np.array([[1,2],[3,2]])\n"
   ]
  },
  {
   "cell_type": "code",
   "execution_count": 241,
   "metadata": {},
   "outputs": [],
   "source": [
    "a=np.where(b!=1,a,1)"
   ]
  },
  {
   "cell_type": "code",
   "execution_count": 253,
   "metadata": {},
   "outputs": [],
   "source": [
    "q,w=np.where(b==2)"
   ]
  },
  {
   "cell_type": "code",
   "execution_count": 236,
   "metadata": {},
   "outputs": [],
   "source": [
    "conn=[]\n",
    "co1=np.array([[1,2,3],[2,3,4],[3,4,5]])\n",
    "conn.append(co1)"
   ]
  },
  {
   "cell_type": "code",
   "execution_count": 237,
   "metadata": {},
   "outputs": [
    {
     "data": {
      "text/plain": [
       "[array([[1, 2, 3],\n",
       "        [2, 3, 4],\n",
       "        [3, 4, 5]])]"
      ]
     },
     "execution_count": 237,
     "metadata": {},
     "output_type": "execute_result"
    }
   ],
   "source": [
    "conn"
   ]
  },
  {
   "cell_type": "code",
   "execution_count": 262,
   "metadata": {},
   "outputs": [],
   "source": [
    "empty=np.empty((4,6), dtype=object)"
   ]
  },
  {
   "cell_type": "code",
   "execution_count": 265,
   "metadata": {},
   "outputs": [],
   "source": [
    "empty[1,1]=np.array([1,2,3])"
   ]
  },
  {
   "cell_type": "code",
   "execution_count": 266,
   "metadata": {},
   "outputs": [
    {
     "data": {
      "text/plain": [
       "array([[None, None, None, None, None, None],\n",
       "       [None, array([1, 2, 3]), None, None, None, None],\n",
       "       [None, None, None, None, None, None],\n",
       "       [None, None, None, None, None, None]], dtype=object)"
      ]
     },
     "execution_count": 266,
     "metadata": {},
     "output_type": "execute_result"
    }
   ],
   "source": [
    "empty"
   ]
  },
  {
   "cell_type": "code",
   "execution_count": null,
   "metadata": {},
   "outputs": [],
   "source": []
  }
 ],
 "metadata": {
  "kernelspec": {
   "display_name": "Python 3",
   "language": "python",
   "name": "python3"
  },
  "language_info": {
   "codemirror_mode": {
    "name": "ipython",
    "version": 3
   },
   "file_extension": ".py",
   "mimetype": "text/x-python",
   "name": "python",
   "nbconvert_exporter": "python",
   "pygments_lexer": "ipython3",
   "version": "3.7.3"
  }
 },
 "nbformat": 4,
 "nbformat_minor": 2
}
