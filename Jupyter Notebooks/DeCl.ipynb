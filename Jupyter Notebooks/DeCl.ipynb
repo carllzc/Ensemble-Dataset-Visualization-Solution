{
 "cells": [
  {
   "cell_type": "code",
   "execution_count": 10,
   "metadata": {},
   "outputs": [],
   "source": [
    "%matplotlib inline\n",
    "# import necessary modules\n",
    "# reading data\n",
    "import os\n",
    "import netCDF4 as nc\n",
    "# operation data\n",
    "import numpy as np\n",
    "import pandas as pd\n",
    "import math\n",
    "from datetime import datetime, timedelta\n",
    "#from mpl_toolkits.basemap import Basemap\n",
    "from scipy.spatial import distance_matrix\n",
    "from scipy.spatial.distance import cdist\n",
    "# visualization\n",
    "import matplotlib\n",
    "import matplotlib.pyplot as plt\n",
    "import seaborn as sns\n",
    "import matplotlib.gridspec as gridspec\n",
    "from matplotlib import cm\n",
    "from matplotlib.patches import Rectangle\n",
    "from matplotlib.collections import PatchCollection\n",
    "from matplotlib.patches import Polygon\n",
    "from mpl_toolkits.axes_grid1 import make_axes_locatable, inset_locator\n",
    "from matplotlib.ticker import AutoMinorLocator\n",
    "# machine learing\n",
    "from sklearn.decomposition import PCA\n",
    "from sklearn.cluster import KMeans\n",
    "from sklearn.cluster import DBSCAN\n",
    "from sklearn.neighbors import NearestNeighbors\n",
    "from sklearn.neighbors import KernelDensity\n",
    "#import hdbscan\n",
    "import debacl as dcl\n",
    "import networkx as _nx\n",
    "# saving as pdf\n",
    "#from matplotlib.backends.backend_pdf import PdfPages"
   ]
  },
  {
   "cell_type": "code",
   "execution_count": 11,
   "metadata": {},
   "outputs": [],
   "source": [
    "#get the file path for loading, data file is under the same dir with the notebook\n",
    "filename=\"20121015_00_ecmwf_ensemble_forecast.PRESSURE_LEVELS.EUR_LL10.120.pl.nc\"\n",
    "foldername=\"ECWMF Datasets\"\n",
    "filepath=os.path.join(os.path.dirname(os.getcwd()),foldername,filename)\n",
    "\n",
    "# read the raw data and extract the needed data\n",
    "# exrtact the value of Geopotential under the pressure of 500 hPA in the certain\n",
    "Pressure_Levels_data = nc.Dataset(filepath,\"r\")\n",
    "g = 9.80655\n",
    "# get all the dimension value\n",
    "nd_1,nd_2,nd_3,nd_4,nd_5 = Pressure_Levels_data.variables['Geopotential_isobaric'][:].shape\n",
    "# get the necessary raw data\n",
    "Geopotential_Isobaric_500 = Pressure_Levels_data.variables['Geopotential_isobaric'][0,:,7,:,:]/g\n",
    "# reshape the dataset into form of (51,41*101)\n",
    "Geopotential_Isobaric_500_reshaped = np.reshape(Geopotential_Isobaric_500,(nd_2, nd_4 * nd_5))\n",
    "# prepare the longitude and latitude value for contour\n",
    "longitude = Pressure_Levels_data['lon'][:]\n",
    "latitude = Pressure_Levels_data['lat'][:]\n",
    "(lon, lat) = np.meshgrid(longitude, latitude)\n",
    "\n",
    "# use PCA to reduce dimensions under the condition of reaching 80% of all the member infomation\n",
    "exp_var = 0\n",
    "n_pc = 0\n",
    "while exp_var < 0.8:\n",
    "    n_pc = n_pc + 1\n",
    "    pca = PCA(n_components = n_pc)\n",
    "    pca.fit(Geopotential_Isobaric_500_reshaped)\n",
    "    exp_var = sum(pca.explained_variance_ratio_)\n",
    "\n",
    "# get the transformed raw data in the dimension-reduced space    \n",
    "pca_transformed_data = pca.transform(Geopotential_Isobaric_500_reshaped)\n",
    "\n",
    "#get the time variable\n",
    "times=Pressure_Levels_data.variables[\"time\"]\n",
    "#get the time number\n",
    "arrDateEnd=nc.num2date(times[:],units=times.units)\n",
    "#get the time in date format\n",
    "dateEndDate = datetime.date(arrDateEnd[0]).strftime(\"%d %b %Y\")\n",
    "dateEndMin = datetime.date(arrDateEnd[0]).strftime(\"%H:%M\")\n",
    "dateStart=datetime.date(arrDateEnd[0])-timedelta(hours=120)\n",
    "dateStartDate=dateStart.strftime(\"%d %b %Y\")\n",
    "dateStartMin=dateStart.strftime(\"%H:%M\")"
   ]
  },
  {
   "cell_type": "code",
   "execution_count": 12,
   "metadata": {},
   "outputs": [],
   "source": [
    "def Get_Subgrid(longitude,latitude,bottomLeft,topRight):\n",
    "    lonStart=(np.abs(longitude - bottomLeft[0])).argmin()\n",
    "    lonEnd=(np.abs(longitude - topRight[0])).argmin()\n",
    "    latStart=(np.abs(latitude - bottomLeft[1])).argmin()\n",
    "    latEnd=(np.abs(latitude - topRight[1])).argmin()\n",
    "    \n",
    "    return lonStart,lonEnd,latStart,latEnd\n",
    "\n",
    "def Get_Meshgrid(lonStart,lonEnd,latStart,latEnd):\n",
    "    long=longitude[lonStart:lonEnd+1]\n",
    "    lati=latitude[latEnd:latStart+1]\n",
    "    (lon,lat)=np.meshgrid(long,lati)\n",
    "    \n",
    "    return lon,lat\n",
    "\n",
    "def Get_Area_Data(data,lonStart,lonEnd,latStart,latEnd):\n",
    "    areaData=data[:,latEnd:latStart+1,lonStart:lonEnd+1]\n",
    "    \n",
    "    return areaData\n",
    "\n",
    "def Reshape_New_Data(areaData):\n",
    "    dim1,dim2,dim3=areaData.shape\n",
    "    reshapedData=np.reshape(areaData,(dim1,dim2*dim3))\n",
    "    return reshapedData\n",
    "\n",
    "def PCA_Run(data):\n",
    "    exp_var = 0\n",
    "    n_pc = 0\n",
    "    while exp_var < 0.8:\n",
    "        n_pc = n_pc + 1\n",
    "        pca = PCA(n_components = n_pc)\n",
    "        pca.fit(data)\n",
    "        exp_var = sum(pca.explained_variance_ratio_)\n",
    "        \n",
    "    return pca\n",
    "\n",
    "def decompose_region(data,lon,lat,point1,point2):\n",
    "    lonStart,lonEnd,latStart,latEnd = Get_Subgrid(lon,lat,point1,point2)\n",
    "    secData = Get_Area_Data(data,lonStart,lonEnd,latStart,latEnd)\n",
    "    reshapeData=Reshape_New_Data(secData)\n",
    "    PCA_=PCA_Run(reshapeData)\n",
    "    transformedData=PCA_.transform(reshapeData)\n",
    "    \n",
    "    return transformedData"
   ]
  },
  {
   "cell_type": "code",
   "execution_count": 13,
   "metadata": {},
   "outputs": [],
   "source": [
    "from sklearn import preprocessing\n",
    "#get the file path for loading, data file is under the same dir with the notebook\n",
    "filename=\"20121017_12_ecmwf_forecast.PRESSURE_LEVELS.EUR_LL015.036.pl.nc\"\n",
    "foldername=\"ECWMF Datasets\"\n",
    "filepath=os.path.join(os.path.dirname(os.getcwd()),foldername,filename)\n",
    "syn = nc.Dataset(filepath,\"r\")\n",
    "#syn.variables\n",
    "longitude1 = syn['lon'][:]\n",
    "latitude1 = syn['lat'][:]\n",
    "(lon1, lat1) = np.meshgrid(longitude1, latitude1)\n",
    "syndata =syn.variables['Geopotential_isobaric'][:]/9.8\n",
    "syndataiso1 = syndata[0,:,0,:,:]\n",
    "syndataiso2 = syndata[0,:,1,:,:]\n",
    "syndataiso3 = syndata[0,:,2,:,:]\n",
    "\n",
    "lonStart1,lonEnd1,latStart1,latEnd1 = Get_Subgrid(longitude1,latitude1,[-10,35],[20,65])\n",
    "secData1 = Get_Area_Data(syndataiso3,lonStart1,lonEnd1,latStart1,latEnd1)\n",
    "reshapeData1=Reshape_New_Data(secData1)\n",
    "\n",
    "PCA_1=PCA_Run(reshapeData1)\n",
    "transformedData1=PCA_1.transform(reshapeData1)"
   ]
  },
  {
   "cell_type": "code",
   "execution_count": 14,
   "metadata": {},
   "outputs": [],
   "source": [
    "synsmall=decompose_region(syndataiso1,longitude1,latitude1,[-10,35],[20,65])\n",
    "realsmall=decompose_region(Geopotential_Isobaric_500,longitude,latitude,[-60,45],[-40,60])\n",
    "realmid=decompose_region(Geopotential_Isobaric_500,longitude,latitude,[-60,30],[10,60])"
   ]
  },
  {
   "cell_type": "code",
   "execution_count": 47,
   "metadata": {},
   "outputs": [
    {
     "name": "stdout",
     "output_type": "stream",
     "text": [
      "+----+-------------+-----------+------+--------+----------+\n",
      "| id | start_level | end_level | size | parent | children |\n",
      "+----+-------------+-----------+------+--------+----------+\n",
      "| 0  |  0.00e+00f  | 6.31e-08f |  24  |  None  |  [2, 3]  |\n",
      "| 1  |  0.00e+00f  | 7.97e-08f |  27  |  None  |    []    |\n",
      "| 2  |  6.31e-08f  | 6.92e-08f |  2   |   0    |    []    |\n",
      "| 3  |  6.31e-08f  | 1.13e-07f |  8   |   0    |    []    |\n",
      "+----+-------------+-----------+------+--------+----------+\n"
     ]
    },
    {
     "data": {
      "image/png": "[encoded data removed]",
      "text/plain": [
       "<Figure size 432x288 with 1 Axes>"
      ]
     },
     "metadata": {
      "needs_background": "light"
     },
     "output_type": "display_data"
    }
   ],
   "source": [
    "tree = dcl.construct_tree(synsmall, k=10) \n",
    "print tree\n",
    "fig, node_coords, split_coords, node_colors= tree.plot(form='density',horizontal_spacing=\"proportional\",colormap=\"Oranges\")\n",
    "fig.show()"
   ]
  },
  {
   "cell_type": "code",
   "execution_count": 48,
   "metadata": {},
   "outputs": [
    {
     "data": {
      "text/plain": [
       "array([[ 2,  1],\n",
       "       [ 5,  1],\n",
       "       [ 9,  1],\n",
       "       [12,  1],\n",
       "       [17,  1],\n",
       "       [18,  1],\n",
       "       [20,  1],\n",
       "       [22,  1],\n",
       "       [23,  1],\n",
       "       [24,  1],\n",
       "       [26,  1],\n",
       "       [28,  1],\n",
       "       [29,  1],\n",
       "       [31,  1],\n",
       "       [32,  1],\n",
       "       [33,  1],\n",
       "       [34,  1],\n",
       "       [35,  1],\n",
       "       [37,  1],\n",
       "       [40,  1],\n",
       "       [41,  1],\n",
       "       [43,  1],\n",
       "       [44,  1],\n",
       "       [45,  1],\n",
       "       [48,  1],\n",
       "       [49,  1],\n",
       "       [50,  1],\n",
       "       [ 8,  2],\n",
       "       [ 1,  2],\n",
       "       [ 4,  3],\n",
       "       [ 6,  3],\n",
       "       [39,  3],\n",
       "       [11,  3],\n",
       "       [13,  3],\n",
       "       [47,  3],\n",
       "       [15,  3],\n",
       "       [30,  3]])"
      ]
     },
     "execution_count": 48,
     "metadata": {},
     "output_type": "execute_result"
    }
   ],
   "source": [
    "tree.get_clusters()"
   ]
  },
  {
   "cell_type": "code",
   "execution_count": 40,
   "metadata": {},
   "outputs": [],
   "source": [
    "sim_graph, radii = dcl.utils.knn_graph(synsmall, 3)\n",
    "density = dcl.utils.knn_density(radii,synsmall.shape[0],synsmall.shape[1],3)\n",
    "levels = dcl.utils.define_density_mass_grid(density,num_levels=20)"
   ]
  },
  {
   "cell_type": "code",
   "execution_count": 50,
   "metadata": {},
   "outputs": [
    {
     "data": {
      "text/plain": [
       "array([1.86457300e-08, 4.63689621e-08, 8.54487947e-08, 1.50303437e-07,\n",
       "       2.84260549e-07, 4.27732790e-07, 4.45085575e-07, 5.86562033e-07,\n",
       "       6.89556634e-07, 1.13130480e-06, 1.57042421e-06, 1.58292041e-06,\n",
       "       2.62250131e-06, 3.27983538e-06, 4.97418306e-06, 8.80820597e-06,\n",
       "       1.46439766e-05, 3.17364446e-05, 4.85735895e-05, 1.75674235e-04])"
      ]
     },
     "execution_count": 50,
     "metadata": {},
     "output_type": "execute_result"
    }
   ],
   "source": [
    "levels"
   ]
  },
  {
   "cell_type": "code",
   "execution_count": 42,
   "metadata": {},
   "outputs": [],
   "source": [
    "G = _nx.from_dict_of_lists({i: neighbors for i, neighbors in enumerate(sim_graph)})"
   ]
  },
  {
   "cell_type": "code",
   "execution_count": 43,
   "metadata": {},
   "outputs": [],
   "source": [
    "subgraphs={}\n",
    "for i, c in enumerate(_nx.connected_components(G)):  # c is only the vertex list, not the subgraph\n",
    "    subgraphs[i]=G.subgraph(c)"
   ]
  },
  {
   "cell_type": "code",
   "execution_count": 44,
   "metadata": {},
   "outputs": [
    {
     "data": {
      "text/plain": [
       "[7, 4, 6, 8, 5, 3, 3, 7, 5, 3]"
      ]
     },
     "execution_count": 44,
     "metadata": {},
     "output_type": "execute_result"
    }
   ],
   "source": [
    "[x.number_of_nodes() for x in subgraphs.itervalues()]"
   ]
  },
  {
   "cell_type": "code",
   "execution_count": 45,
   "metadata": {},
   "outputs": [
    {
     "data": {
      "text/plain": [
       "[{0, 1, 10, 16, 19, 27, 46},\n",
       " {2, 26, 37, 50},\n",
       " {3, 13, 15, 25, 30, 38},\n",
       " {4, 6, 11, 21, 36, 39, 42, 47},\n",
       " {5, 20, 28, 33, 44},\n",
       " {7, 8, 14},\n",
       " {9, 12, 17},\n",
       " {18, 22, 23, 29, 35, 48, 49},\n",
       " {24, 31, 34, 40, 43},\n",
       " {32, 41, 45}]"
      ]
     },
     "execution_count": 45,
     "metadata": {},
     "output_type": "execute_result"
    }
   ],
   "source": [
    "list(_nx.connected_components(G))"
   ]
  },
  {
   "cell_type": "code",
   "execution_count": null,
   "metadata": {},
   "outputs": [],
   "source": []
  }
 ],
 "metadata": {
  "kernelspec": {
   "display_name": "Python 2",
   "language": "python",
   "name": "python2"
  },
  "language_info": {
   "codemirror_mode": {
    "name": "ipython",
    "version": 2
   },
   "file_extension": ".py",
   "mimetype": "text/x-python",
   "name": "python",
   "nbconvert_exporter": "python",
   "pygments_lexer": "ipython2",
   "version": "2.7.16"
  }
 },
 "nbformat": 4,
 "nbformat_minor": 2
}
