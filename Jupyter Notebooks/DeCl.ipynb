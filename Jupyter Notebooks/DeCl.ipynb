{
 "cells": [
  {
   "cell_type": "code",
   "execution_count": 1,
   "metadata": {},
   "outputs": [],
   "source": [
    "%matplotlib inline\n",
    "# import necessary modules\n",
    "# reading data\n",
    "import os\n",
    "import netCDF4 as nc\n",
    "# operation data\n",
    "import numpy as np\n",
    "import pandas as pd\n",
    "import math\n",
    "from datetime import datetime, timedelta\n",
    "#from mpl_toolkits.basemap import Basemap\n",
    "from scipy.spatial import distance_matrix\n",
    "from scipy.spatial.distance import cdist\n",
    "# visualization\n",
    "import matplotlib\n",
    "import matplotlib.pyplot as plt\n",
    "import seaborn as sns\n",
    "import matplotlib.gridspec as gridspec\n",
    "from matplotlib import cm\n",
    "from matplotlib.patches import Rectangle\n",
    "from matplotlib.collections import PatchCollection\n",
    "from matplotlib.patches import Polygon\n",
    "from mpl_toolkits.axes_grid1 import make_axes_locatable, inset_locator\n",
    "from matplotlib.ticker import AutoMinorLocator\n",
    "# machine learing\n",
    "from sklearn.decomposition import PCA\n",
    "from sklearn.cluster import KMeans\n",
    "from sklearn.cluster import DBSCAN\n",
    "from sklearn.neighbors import NearestNeighbors\n",
    "from sklearn.neighbors import KernelDensity\n",
    "#import hdbscan\n",
    "import debacl as dcl\n",
    "import networkx as _nx\n",
    "# saving as pdf\n",
    "#from matplotlib.backends.backend_pdf import PdfPages"
   ]
  },
  {
   "cell_type": "code",
   "execution_count": 2,
   "metadata": {},
   "outputs": [],
   "source": [
    "#get the file path for loading, data file is under the same dir with the notebook\n",
    "filename=\"20121015_00_ecmwf_ensemble_forecast.PRESSURE_LEVELS.EUR_LL10.120.pl.nc\"\n",
    "foldername=\"ECWMF Datasets\"\n",
    "filepath=os.path.join(os.path.dirname(os.getcwd()),foldername,filename)\n",
    "\n",
    "# read the raw data and extract the needed data\n",
    "# exrtact the value of Geopotential under the pressure of 500 hPA in the certain\n",
    "Pressure_Levels_data = nc.Dataset(filepath,\"r\")\n",
    "g = 9.80655\n",
    "# get all the dimension value\n",
    "nd_1,nd_2,nd_3,nd_4,nd_5 = Pressure_Levels_data.variables['Geopotential_isobaric'][:].shape\n",
    "# get the necessary raw data\n",
    "Geopotential_Isobaric_500 = Pressure_Levels_data.variables['Geopotential_isobaric'][0,:,7,:,:]/g\n",
    "# reshape the dataset into form of (51,41*101)\n",
    "Geopotential_Isobaric_500_reshaped = np.reshape(Geopotential_Isobaric_500,(nd_2, nd_4 * nd_5))\n",
    "# prepare the longitude and latitude value for contour\n",
    "longitude = Pressure_Levels_data['lon'][:]\n",
    "latitude = Pressure_Levels_data['lat'][:]\n",
    "(lon, lat) = np.meshgrid(longitude, latitude)\n",
    "\n",
    "# use PCA to reduce dimensions under the condition of reaching 80% of all the member infomation\n",
    "exp_var = 0\n",
    "n_pc = 0\n",
    "while exp_var < 0.8:\n",
    "    n_pc = n_pc + 1\n",
    "    pca = PCA(n_components = n_pc)\n",
    "    pca.fit(Geopotential_Isobaric_500_reshaped)\n",
    "    exp_var = sum(pca.explained_variance_ratio_)\n",
    "\n",
    "# get the transformed raw data in the dimension-reduced space    \n",
    "pca_transformed_data = pca.transform(Geopotential_Isobaric_500_reshaped)\n",
    "\n",
    "#get the time variable\n",
    "times=Pressure_Levels_data.variables[\"time\"]\n",
    "#get the time number\n",
    "arrDateEnd=nc.num2date(times[:],units=times.units)\n",
    "#get the time in date format\n",
    "dateEndDate = datetime.date(arrDateEnd[0]).strftime(\"%d %b %Y\")\n",
    "dateEndMin = datetime.date(arrDateEnd[0]).strftime(\"%H:%M\")\n",
    "dateStart=datetime.date(arrDateEnd[0])-timedelta(hours=120)\n",
    "dateStartDate=dateStart.strftime(\"%d %b %Y\")\n",
    "dateStartMin=dateStart.strftime(\"%H:%M\")"
   ]
  },
  {
   "cell_type": "code",
   "execution_count": 3,
   "metadata": {},
   "outputs": [],
   "source": [
    "def Get_Subgrid(longitude,latitude,bottomLeft,topRight):\n",
    "    lonStart=(np.abs(longitude - bottomLeft[0])).argmin()\n",
    "    lonEnd=(np.abs(longitude - topRight[0])).argmin()\n",
    "    latStart=(np.abs(latitude - bottomLeft[1])).argmin()\n",
    "    latEnd=(np.abs(latitude - topRight[1])).argmin()\n",
    "    \n",
    "    return lonStart,lonEnd,latStart,latEnd\n",
    "\n",
    "def Get_Meshgrid(lonStart,lonEnd,latStart,latEnd):\n",
    "    long=longitude[lonStart:lonEnd+1]\n",
    "    lati=latitude[latEnd:latStart+1]\n",
    "    (lon,lat)=np.meshgrid(long,lati)\n",
    "    \n",
    "    return lon,lat\n",
    "\n",
    "def Get_Area_Data(data,lonStart,lonEnd,latStart,latEnd):\n",
    "    areaData=data[:,latEnd:latStart+1,lonStart:lonEnd+1]\n",
    "    \n",
    "    return areaData\n",
    "\n",
    "def Reshape_New_Data(areaData):\n",
    "    dim1,dim2,dim3=areaData.shape\n",
    "    reshapedData=np.reshape(areaData,(dim1,dim2*dim3))\n",
    "    return reshapedData\n",
    "\n",
    "def PCA_Run(data):\n",
    "    exp_var = 0\n",
    "    n_pc = 0\n",
    "    while exp_var < 0.8:\n",
    "        n_pc = n_pc + 1\n",
    "        pca = PCA(n_components = n_pc)\n",
    "        pca.fit(data)\n",
    "        exp_var = sum(pca.explained_variance_ratio_)\n",
    "        \n",
    "    return pca\n"
   ]
  },
  {
   "cell_type": "code",
   "execution_count": 4,
   "metadata": {},
   "outputs": [],
   "source": [
    "from sklearn import preprocessing\n",
    "#get the file path for loading, data file is under the same dir with the notebook\n",
    "filename=\"20121017_12_ecmwf_forecast.PRESSURE_LEVELS.EUR_LL015.036.pl.nc\"\n",
    "foldername=\"ECWMF Datasets\"\n",
    "filepath=os.path.join(os.path.dirname(os.getcwd()),foldername,filename)\n",
    "syn = nc.Dataset(filepath,\"r\")\n",
    "#syn.variables\n",
    "longitude1 = syn['lon'][:]\n",
    "latitude1 = syn['lat'][:]\n",
    "(lon1, lat1) = np.meshgrid(longitude1, latitude1)\n",
    "syndata =syn.variables['Geopotential_isobaric'][:]/9.8\n",
    "syndataiso1 = syndata[0,:,0,:,:]\n",
    "syndataiso2 = syndata[0,:,1,:,:]\n",
    "syndataiso3 = syndata[0,:,2,:,:]\n",
    "\n",
    "lonStart1,lonEnd1,latStart1,latEnd1 = Get_Subgrid(longitude1,latitude1,[-10,35],[20,65])\n",
    "secData1 = Get_Area_Data(syndataiso3,lonStart1,lonEnd1,latStart1,latEnd1)\n",
    "reshapeData1=Reshape_New_Data(secData1)\n",
    "\n",
    "PCA_1=PCA_Run(reshapeData1)\n",
    "transformedData1=PCA_1.transform(reshapeData1)\n"
   ]
  },
  {
   "cell_type": "code",
   "execution_count": 57,
   "metadata": {},
   "outputs": [
    {
     "name": "stdout",
     "output_type": "stream",
     "text": [
      "+----+--------------+--------------+------+--------+----------+\n",
      "| id | start_level  |  end_level   | size | parent | children |\n",
      "+----+--------------+--------------+------+--------+----------+\n",
      "| 0  | 0.0000000000 | 0.0026170264 |  51  |  None  |  [1, 2]  |\n",
      "| 1  | 0.0026170264 | 0.0034327938 |  29  |   0    |  [3, 4]  |\n",
      "| 2  | 0.0026170264 | 0.0035650762 |  8   |   0    |    []    |\n",
      "| 3  | 0.0034327938 | 0.0123881013 |  15  |   1    |    []    |\n",
      "| 4  | 0.0034327938 | 0.0047650409 |  9   |   1    |    []    |\n",
      "+----+--------------+--------------+------+--------+----------+\n"
     ]
    },
    {
     "data": {
      "image/png": "[encoded data removed]",
      "text/plain": [
       "<Figure size 432x288 with 1 Axes>"
      ]
     },
     "metadata": {
      "needs_background": "light"
     },
     "output_type": "display_data"
    }
   ],
   "source": [
    "tree = dcl.construct_tree(transformedData1[:,0:1], k=10,prune_threshold=3) \n",
    "print tree\n",
    "fig= tree.plot(form='density',horizontal_spacing=\"proportional\",colormap=\"Paired\")[0]\n",
    "fig.show()"
   ]
  },
  {
   "cell_type": "code",
   "execution_count": 58,
   "metadata": {},
   "outputs": [
    {
     "data": {
      "text/plain": [
       "array([0.00736798, 0.00826148, 0.00159885, 0.00273736, 0.00261703,\n",
       "       0.01090661, 0.00442196, 0.0043282 , 0.00343279, 0.00222459,\n",
       "       0.00412419, 0.00407881, 0.00097698, 0.00729085, 0.00258691,\n",
       "       0.0029054 , 0.0035963 , 0.00112931, 0.00340702, 0.0075848 ,\n",
       "       0.00459949, 0.00752823, 0.0029054 , 0.00280307, 0.0030002 ,\n",
       "       0.00298118, 0.00327403, 0.00391855, 0.00098043, 0.00282006,\n",
       "       0.00246521, 0.00476504, 0.0021781 , 0.0123881 , 0.00904984,\n",
       "       0.00476504, 0.01138529, 0.0034086 , 0.00850425, 0.00274972,\n",
       "       0.00173562, 0.00140939, 0.00190051, 0.00128052, 0.00460259,\n",
       "       0.00772581, 0.00601441, 0.00401664, 0.00343497, 0.00356508,\n",
       "       0.00132068])"
      ]
     },
     "execution_count": 58,
     "metadata": {},
     "output_type": "execute_result"
    }
   ],
   "source": [
    "tree.get_density()"
   ]
  },
  {
   "cell_type": "code",
   "execution_count": 7,
   "metadata": {},
   "outputs": [],
   "source": [
    "sim_graph, radii = dcl.utils.knn_graph(transformedData1[:,0:1], 9)\n",
    "density = dcl.utils.knn_density(radii,transformedData1[:,0:1].shape[0],transformedData1[:,0:1].shape[1],9)\n",
    "massgrid = dcl.utils.define_density_mass_grid(density)"
   ]
  },
  {
   "cell_type": "code",
   "execution_count": 8,
   "metadata": {},
   "outputs": [
    {
     "data": {
      "text/plain": [
       "array([0.00718977, 0.00842781, 0.00177371, 0.00294235, 0.00239877,\n",
       "       0.01177357, 0.00484568, 0.00517807, 0.0031303 , 0.0026616 ,\n",
       "       0.00485859, 0.00384493, 0.0009939 , 0.00762463, 0.00268307,\n",
       "       0.00307101, 0.00339211, 0.0011727 , 0.00384493, 0.00765383,\n",
       "       0.00503064, 0.00735515, 0.00303424, 0.00414483, 0.00272674,\n",
       "       0.00296561, 0.00306117, 0.00420461, 0.00099787, 0.00296561,\n",
       "       0.00225767, 0.00498422, 0.00258816, 0.01273166, 0.00935116,\n",
       "       0.00482684, 0.01223188, 0.00371515, 0.00842781, 0.00401679,\n",
       "       0.00196453, 0.00152159, 0.00189453, 0.00135768, 0.00428247,\n",
       "       0.00743533, 0.00626738, 0.00390829, 0.00311014, 0.00366335,\n",
       "       0.00140813])"
      ]
     },
     "execution_count": 8,
     "metadata": {},
     "output_type": "execute_result"
    }
   ],
   "source": [
    "density"
   ]
  },
  {
   "cell_type": "code",
   "execution_count": null,
   "metadata": {},
   "outputs": [],
   "source": []
  }
 ],
 "metadata": {
  "kernelspec": {
   "display_name": "Python 2",
   "language": "python",
   "name": "python2"
  },
  "language_info": {
   "codemirror_mode": {
    "name": "ipython",
    "version": 2
   },
   "file_extension": ".py",
   "mimetype": "text/x-python",
   "name": "python",
   "nbconvert_exporter": "python",
   "pygments_lexer": "ipython2",
   "version": "2.7.16"
  }
 },
 "nbformat": 4,
 "nbformat_minor": 2
}
