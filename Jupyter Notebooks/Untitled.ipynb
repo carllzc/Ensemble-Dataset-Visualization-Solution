{
 "cells": [
  {
   "cell_type": "code",
   "execution_count": 1,
   "metadata": {},
   "outputs": [],
   "source": [
    "# import necessary modules\n",
    "# reading data\n",
    "import os\n",
    "import netCDF4 as nc\n",
    "# operation data\n",
    "import numpy as np\n",
    "import pandas as pd\n",
    "import math\n",
    "from datetime import datetime, timedelta\n",
    "#from mpl_toolkits.basemap import Basemap\n",
    "from scipy.spatial import distance_matrix\n",
    "from scipy.spatial.distance import cdist\n",
    "# visualization\n",
    "import matplotlib\n",
    "import matplotlib.pyplot as plt\n",
    "import seaborn as sns\n",
    "import matplotlib.gridspec as gridspec\n",
    "from matplotlib import cm\n",
    "from matplotlib.patches import Rectangle\n",
    "from matplotlib.collections import PatchCollection\n",
    "from matplotlib.patches import Polygon\n",
    "from mpl_toolkits.axes_grid1 import make_axes_locatable, inset_locator\n",
    "from matplotlib.ticker import AutoMinorLocator\n",
    "# machine learing\n",
    "from sklearn.decomposition import PCA\n",
    "from sklearn.cluster import KMeans\n",
    "from sklearn.cluster import DBSCAN\n",
    "from sklearn.neighbors import NearestNeighbors\n",
    "from sklearn.neighbors import KernelDensity\n",
    "#import hdbscan\n",
    "import debacl as dcl\n",
    "# saving as pdf\n",
    "#from matplotlib.backends.backend_pdf import PdfPages"
   ]
  },
  {
   "cell_type": "code",
   "execution_count": 2,
   "metadata": {},
   "outputs": [],
   "source": [
    "#get the file path for loading, data file is under the same dir with the notebook\n",
    "filename=\"20121015_00_ecmwf_ensemble_forecast.PRESSURE_LEVELS.EUR_LL10.120.pl.nc\"\n",
    "foldername=\"ECWMF Datasets\"\n",
    "filepath=os.path.join(os.path.dirname(os.getcwd()),foldername,filename)\n",
    "\n",
    "# read the raw data and extract the needed data\n",
    "# exrtact the value of Geopotential under the pressure of 500 hPA in the certain\n",
    "Pressure_Levels_data = nc.Dataset(filepath,\"r\")\n",
    "g = 9.80655\n",
    "# get all the dimension value\n",
    "nd_1,nd_2,nd_3,nd_4,nd_5 = Pressure_Levels_data.variables['Geopotential_isobaric'][:].shape\n",
    "# get the necessary raw data\n",
    "Geopotential_Isobaric_500 = Pressure_Levels_data.variables['Geopotential_isobaric'][0,:,7,:,:]/g\n",
    "# reshape the dataset into form of (51,41*101)\n",
    "Geopotential_Isobaric_500_reshaped = np.reshape(Geopotential_Isobaric_500,(nd_2, nd_4 * nd_5))\n",
    "# prepare the longitude and latitude value for contour\n",
    "longitude = Pressure_Levels_data['lon'][:]\n",
    "latitude = Pressure_Levels_data['lat'][:]\n",
    "(lon, lat) = np.meshgrid(longitude, latitude)\n",
    "\n",
    "# use PCA to reduce dimensions under the condition of reaching 80% of all the member infomation\n",
    "exp_var = 0\n",
    "n_pc = 0\n",
    "while exp_var < 0.8:\n",
    "    n_pc = n_pc + 1\n",
    "    pca = PCA(n_components = n_pc)\n",
    "    pca.fit(Geopotential_Isobaric_500_reshaped)\n",
    "    exp_var = sum(pca.explained_variance_ratio_)\n",
    "\n",
    "# get the transformed raw data in the dimension-reduced space    \n",
    "pca_transformed_data = pca.transform(Geopotential_Isobaric_500_reshaped)\n",
    "\n",
    "#get the time variable\n",
    "times=Pressure_Levels_data.variables[\"time\"]\n",
    "#get the time number\n",
    "arrDateEnd=nc.num2date(times[:],units=times.units)\n",
    "#get the time in date format\n",
    "dateEndDate = datetime.date(arrDateEnd[0]).strftime(\"%d %b %Y\")\n",
    "dateEndMin = datetime.date(arrDateEnd[0]).strftime(\"%H:%M\")\n",
    "dateStart=datetime.date(arrDateEnd[0])-timedelta(hours=120)\n",
    "dateStartDate=dateStart.strftime(\"%d %b %Y\")\n",
    "dateStartMin=dateStart.strftime(\"%H:%M\")"
   ]
  },
  {
   "cell_type": "code",
   "execution_count": 3,
   "metadata": {},
   "outputs": [],
   "source": [
    "def Get_Subgrid(longitude,latitude,bottomLeft,topRight):\n",
    "    lonStart=(np.abs(longitude - bottomLeft[0])).argmin()\n",
    "    lonEnd=(np.abs(longitude - topRight[0])).argmin()\n",
    "    latStart=(np.abs(latitude - bottomLeft[1])).argmin()\n",
    "    latEnd=(np.abs(latitude - topRight[1])).argmin()\n",
    "    \n",
    "    return lonStart,lonEnd,latStart,latEnd\n",
    "\n",
    "def Get_Meshgrid(lonStart,lonEnd,latStart,latEnd):\n",
    "    long=longitude[lonStart:lonEnd+1]\n",
    "    lati=latitude[latEnd:latStart+1]\n",
    "    (lon,lat)=np.meshgrid(long,lati)\n",
    "    \n",
    "    return lon,lat\n",
    "\n",
    "def Get_Area_Data(data,lonStart,lonEnd,latStart,latEnd):\n",
    "    areaData=data[:,latEnd:latStart+1,lonStart:lonEnd+1]\n",
    "    \n",
    "    return areaData\n",
    "\n",
    "def Reshape_New_Data(areaData):\n",
    "    dim1,dim2,dim3=areaData.shape\n",
    "    reshapedData=np.reshape(areaData,(dim1,dim2*dim3))\n",
    "    return reshapedData\n",
    "\n",
    "def PCA_Run(data):\n",
    "    exp_var = 0\n",
    "    n_pc = 0\n",
    "    while exp_var < 0.8:\n",
    "        n_pc = n_pc + 1\n",
    "        pca = PCA(n_components = n_pc)\n",
    "        pca.fit(data)\n",
    "        exp_var = sum(pca.explained_variance_ratio_)\n",
    "        \n",
    "    return pca\n",
    "lonStart,lonEnd,latStart,latEnd = Get_Subgrid(longitude,latitude,[-55,45],[-42,55])\n",
    "secData = Get_Area_Data(Geopotential_Isobaric_500,lonStart,lonEnd,latStart,latEnd)\n",
    "reshapeData=Reshape_New_Data(secData)\n",
    "PCA_=PCA_Run(reshapeData)\n",
    "transformedData=PCA_.transform(reshapeData)"
   ]
  },
  {
   "cell_type": "code",
   "execution_count": 71,
   "metadata": {},
   "outputs": [
    {
     "name": "stdout",
     "output_type": "stream",
     "text": [
      "+----+-------------+-----------+------------+----------+------+--------+----------+\n",
      "| id | start_level | end_level | start_mass | end_mass | size | parent | children |\n",
      "+----+-------------+-----------+------------+----------+------+--------+----------+\n",
      "| 0  |    0.000    |   0.000   |   0.000    |  0.725   |  51  |  None  |  [1, 2]  |\n",
      "| 1  |    0.000    |   0.000   |   0.725    |  0.843   |  13  |   0    |  [3, 4]  |\n",
      "| 2  |    0.000    |   0.000   |   0.725    |  0.863   |  1   |   0    |    []    |\n",
      "| 3  |    0.000    |   0.000   |   0.843    |  1.000   |  6   |   1    |    []    |\n",
      "| 4  |    0.000    |   0.000   |   0.843    |  0.882   |  1   |   1    |    []    |\n",
      "+----+-------------+-----------+------------+----------+------+--------+----------+\n"
     ]
    },
    {
     "data": {
      "image/png": "[encoded data removed]",
      "text/plain": [
       "<Figure size 432x288 with 1 Axes>"
      ]
     },
     "metadata": {
      "needs_background": "light"
     },
     "output_type": "display_data"
    }
   ],
   "source": [
    "tree = dcl.construct_tree(pca_transformed_data, k=4) \n",
    "print tree\n",
    "fig = tree.plot(form='density')[0]\n",
    "fig.show()"
   ]
  },
  {
   "cell_type": "code",
   "execution_count": null,
   "metadata": {},
   "outputs": [],
   "source": []
  }
 ],
 "metadata": {
  "kernelspec": {
   "display_name": "Python 2",
   "language": "python",
   "name": "python2"
  },
  "language_info": {
   "codemirror_mode": {
    "name": "ipython",
    "version": 2
   },
   "file_extension": ".py",
   "mimetype": "text/x-python",
   "name": "python",
   "nbconvert_exporter": "python",
   "pygments_lexer": "ipython2",
   "version": "2.7.16"
  }
 },
 "nbformat": 4,
 "nbformat_minor": 2
}
